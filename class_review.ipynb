{
 "cells": [
  {
   "cell_type": "code",
   "execution_count": 17,
   "metadata": {},
   "outputs": [
    {
     "name": "stdout",
     "output_type": "stream",
     "text": [
      "What would you like to do? (add/remove or quit)wefojswnbdfkjsdf\n",
      "Opps! That didn't work! Please try again!\n",
      "What would you like to do? (add/remove or quit)quit\n",
      "You have the following items in your cart:\n",
      "Thanks for shopping\n"
     ]
    }
   ],
   "source": [
    "#redo previously built shopping cart into an OOP shopping cart.\n",
    "#Shopping cart needs:\n",
    "#add functionality(letting users add items)\n",
    "#remove functionality(letting users remove items)\n",
    "#show functionality(letting users see everything currently in the cart)\n",
    "#loop through these functionalities, until user wanted to quit\n",
    "class Cart():\n",
    "    #init method\n",
    "    def __init__(self, items):\n",
    "        self.items = items\n",
    "    #add method\n",
    "    def addToCart(self):\n",
    "        while True:\n",
    "            products = input(\"What would you like to add? (Say 'quit' to not add anything)\")\n",
    "            if products.lower() == 'quit':\n",
    "                break\n",
    "            else:\n",
    "                self.items.append(products)\n",
    "                continue\n",
    "    #remove method\n",
    "    def removeFromCart(self):\n",
    "        while True:\n",
    "            delete = input(\"What would you like to remove? (Say 'quit' to not add anything)\")\n",
    "            if delete.lower() == 'quit':\n",
    "                break\n",
    "            elif delete.lower() != 'quit':\n",
    "                if delete.lower() not in self.items:\n",
    "                    print(\"\\n Opps! That's not in your cart! Please try again!\") #\\n = new line\n",
    "                    continue\n",
    "                elif delete in self.items:\n",
    "                    self.items.remove(delete)\n",
    "                    print(f\"You removed {delete} form your cart!\")\n",
    "    #show method\n",
    "    def showCart(self):\n",
    "        print(\"You have the following items in your cart:\")\n",
    "        for item in self.items:\n",
    "            print(item)\n",
    "\n",
    "#Instance of Cart class\n",
    "mycart = Cart([])\n",
    "\n",
    "#making method to use class methods\n",
    "def run():\n",
    "    while True:\n",
    "        response = input(\"What would you like to do? (add/remove or quit)\")\n",
    "        if response.lower() == 'quit':\n",
    "            mycart.showCart()\n",
    "            print(\"Thanks for shopping\")\n",
    "            break\n",
    "        elif response.lower() == 'add':\n",
    "            mycart.addToCart()\n",
    "            continue\n",
    "        elif response.lower() == 'remove':\n",
    "            mycart.removeFromCart()\n",
    "            continue\n",
    "        else:\n",
    "            print(\"Opps! That didn't work! Please try again!\")\n",
    "            continue\n",
    "            \n",
    "run()"
   ]
  },
  {
   "cell_type": "code",
   "execution_count": null,
   "metadata": {},
   "outputs": [],
   "source": []
  }
 ],
 "metadata": {
  "kernelspec": {
   "display_name": "Python 3",
   "language": "python",
   "name": "python3"
  },
  "language_info": {
   "codemirror_mode": {
    "name": "ipython",
    "version": 3
   },
   "file_extension": ".py",
   "mimetype": "text/x-python",
   "name": "python",
   "nbconvert_exporter": "python",
   "pygments_lexer": "ipython3",
   "version": "3.8.5"
  }
 },
 "nbformat": 4,
 "nbformat_minor": 4
}
